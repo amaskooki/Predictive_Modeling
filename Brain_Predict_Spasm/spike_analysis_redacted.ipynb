{
 "cells": [
  {
   "cell_type": "markdown",
   "metadata": {},
   "source": [
    "# Introduction:\n",
    "The objective is to develop predictive models for Spasm in patients. The folloqing provides the results for analysis of spike rate in different regions of the brain vs. patients state divided into 3 category: rest, voluntary movement, spasm, obtained through analysis of the real time video recordings. The data set contains 185193 spikes. \n",
    "\n",
    "Data Dictionary:\n",
    "\n",
    "* PatientID: Identification number assigned to each subject for privacy \n",
    "* ChannelName: The file name assigned to the recording channel\n",
    "* NeuronID: An integer assigned to every neuron identified at each channel starting from 1 and increasing\n",
    "* SpikeTime: The time of recording of the spike. (Marco can elaborate further on the time format)\n",
    "* SpikeRate: Calculated as the inverse time between every spike and subsequent spike\n",
    "* SpikeEventType: is a categorical variable indicating the state of the patient at the time of spike recording. The variable takes the following value:\n",
    "    + ‘REST’: Indicates patient in resting or sleeping state (no observable movements)\n",
    "    + 'SPASM_B': Indicates patient has visible spasm on BOTH sides\n",
    "    + 'SPASM_L': Indicates patient has visible spasm on the LEFT sides\n",
    "    + 'SPASM_R': Indicates patient has visible spasm on the RIGHT sides\n",
    "    + 'Voluntary_B': Indicates patient has visible voluntary movement on BOTH sides\n",
    "    + 'Voluntary_L': Indicates patient has visible voluntary movement on the LEFT sides\n",
    "    + 'Voluntary_R’: Indicates patient has visible voluntary movement on the RIGHT sides\n"
   ]
  },
  {
   "cell_type": "code",
   "execution_count": 1,
   "metadata": {},
   "outputs": [
    {
     "name": "stderr",
     "output_type": "stream",
     "text": [
      "C:\\ProgramData\\Anaconda3\\lib\\site-packages\\statsmodels\\compat\\pandas.py:56: FutureWarning: The pandas.core.datetools module is deprecated and will be removed in a future version. Please use the pandas.tseries module instead.\n",
      "  from pandas.core import datetools\n"
     ]
    }
   ],
   "source": [
    "import pandas as pd\n",
    "import numpy as np\n",
    "import matplotlib.pyplot as plt\n",
    "import statsmodels.api as sm\n",
    "import statsmodels.formula.api as smf\n",
    "import seaborn as sns\n",
    "import re\n",
    "\n",
    "import warnings\n",
    "warnings.filterwarnings('ignore')"
   ]
  },
  {
   "cell_type": "code",
   "execution_count": 19,
   "metadata": {},
   "outputs": [
    {
     "data": {
      "text/plain": [
       "185193"
      ]
     },
     "execution_count": 19,
     "metadata": {},
     "output_type": "execute_result"
    }
   ],
   "source": [
    "# Load Database\n",
    "orig_df = pd.read_csv('redacted_spike_data.csv')\n",
    "len(orig_df)"
   ]
  },
  {
   "cell_type": "code",
   "execution_count": 3,
   "metadata": {},
   "outputs": [
    {
     "data": {
      "text/html": [
       "<div>\n",
       "<style scoped>\n",
       "    .dataframe tbody tr th:only-of-type {\n",
       "        vertical-align: middle;\n",
       "    }\n",
       "\n",
       "    .dataframe tbody tr th {\n",
       "        vertical-align: top;\n",
       "    }\n",
       "\n",
       "    .dataframe thead th {\n",
       "        text-align: right;\n",
       "    }\n",
       "</style>\n",
       "<table border=\"1\" class=\"dataframe\">\n",
       "  <thead>\n",
       "    <tr style=\"text-align: right;\">\n",
       "      <th></th>\n",
       "      <th>Index</th>\n",
       "      <th>PatientID</th>\n",
       "      <th>ChannelName</th>\n",
       "      <th>NeuronID</th>\n",
       "      <th>SpikeTime</th>\n",
       "      <th>SpikeRate</th>\n",
       "      <th>EventTypeSide</th>\n",
       "    </tr>\n",
       "  </thead>\n",
       "  <tbody>\n",
       "    <tr>\n",
       "      <th>0</th>\n",
       "      <td>0</td>\n",
       "      <td>1</td>\n",
       "      <td>microVIM_L_1</td>\n",
       "      <td>1</td>\n",
       "      <td>10.583409</td>\n",
       "      <td>0.000000</td>\n",
       "      <td>REST</td>\n",
       "    </tr>\n",
       "    <tr>\n",
       "      <th>1</th>\n",
       "      <td>1</td>\n",
       "      <td>1</td>\n",
       "      <td>microVIM_L_1</td>\n",
       "      <td>1</td>\n",
       "      <td>24.655727</td>\n",
       "      <td>0.071061</td>\n",
       "      <td>REST</td>\n",
       "    </tr>\n",
       "    <tr>\n",
       "      <th>2</th>\n",
       "      <td>2</td>\n",
       "      <td>1</td>\n",
       "      <td>microVIM_L_1</td>\n",
       "      <td>1</td>\n",
       "      <td>66.921773</td>\n",
       "      <td>0.023660</td>\n",
       "      <td>SPASM_B</td>\n",
       "    </tr>\n",
       "    <tr>\n",
       "      <th>3</th>\n",
       "      <td>3</td>\n",
       "      <td>1</td>\n",
       "      <td>microVIM_L_1</td>\n",
       "      <td>1</td>\n",
       "      <td>67.628909</td>\n",
       "      <td>1.414154</td>\n",
       "      <td>SPASM_B</td>\n",
       "    </tr>\n",
       "    <tr>\n",
       "      <th>4</th>\n",
       "      <td>4</td>\n",
       "      <td>1</td>\n",
       "      <td>microVIM_L_1</td>\n",
       "      <td>1</td>\n",
       "      <td>68.318864</td>\n",
       "      <td>1.449371</td>\n",
       "      <td>SPASM_B</td>\n",
       "    </tr>\n",
       "  </tbody>\n",
       "</table>\n",
       "</div>"
      ],
      "text/plain": [
       "   Index  PatientID   ChannelName  NeuronID  SpikeTime  SpikeRate  \\\n",
       "0      0          1  microVIM_L_1         1  10.583409   0.000000   \n",
       "1      1          1  microVIM_L_1         1  24.655727   0.071061   \n",
       "2      2          1  microVIM_L_1         1  66.921773   0.023660   \n",
       "3      3          1  microVIM_L_1         1  67.628909   1.414154   \n",
       "4      4          1  microVIM_L_1         1  68.318864   1.449371   \n",
       "\n",
       "  EventTypeSide  \n",
       "0          REST  \n",
       "1          REST  \n",
       "2       SPASM_B  \n",
       "3       SPASM_B  \n",
       "4       SPASM_B  "
      ]
     },
     "execution_count": 3,
     "metadata": {},
     "output_type": "execute_result"
    }
   ],
   "source": [
    "# Inspect it\n",
    "orig_df.head()"
   ]
  },
  {
   "cell_type": "code",
   "execution_count": 4,
   "metadata": {},
   "outputs": [],
   "source": [
    "df = orig_df.copy()\n",
    "df.drop('Index', axis=1,inplace=True)"
   ]
  },
  {
   "cell_type": "markdown",
   "metadata": {},
   "source": [
    "# Feature Extraction"
   ]
  },
  {
   "cell_type": "markdown",
   "metadata": {},
   "source": [
    "### Get brain region, lateral and contact number"
   ]
  },
  {
   "cell_type": "code",
   "execution_count": 5,
   "metadata": {},
   "outputs": [],
   "source": [
    "def getRegion(e):\n",
    "    match = re.search(r'micro([a-zA-Z]+)_',e)\n",
    "    if match:\n",
    "        return match.group(1)\n",
    "    else:\n",
    "        return\n",
    "def getLateral(e):\n",
    "    match = re.search(r'micro([a-zA-Z]+)_([LR])_',e)\n",
    "    if match:\n",
    "        return match.group(2)\n",
    "    else:\n",
    "        return\n",
    "def getCono(e):\n",
    "    match = re.search(r'micro([a-zA-Z]+)_([LR])_(\\d+)',e)\n",
    "    if match:\n",
    "        return match.group(3)\n",
    "    else:\n",
    "        return\n",
    "\n",
    "df['Recording_Region'] = df['ChannelName'].map(getRegion)\n",
    "df['Recording_Lateral'] = df['ChannelName'].map(getLateral)\n",
    "df['Recording_ContactNo'] = df['ChannelName'].map(getCono)\n",
    "df.drop('ChannelName', axis=1, inplace=True)"
   ]
  },
  {
   "cell_type": "markdown",
   "metadata": {},
   "source": [
    "### Extract event type and lateral "
   ]
  },
  {
   "cell_type": "code",
   "execution_count": 6,
   "metadata": {},
   "outputs": [],
   "source": [
    "def getEvent(e):\n",
    "    match = re.search(r'([a-zA-Z]+)_*',e)\n",
    "    if match:\n",
    "        return match.group(1)\n",
    "    else:\n",
    "        return\n",
    "def getEventLateral(e):\n",
    "    match = re.search(r'[a-zA-Z]+_*([LRB]*)',e)\n",
    "    if match:\n",
    "        return match.group(1)\n",
    "    else:\n",
    "        return\n",
    "    \n",
    "df['Event'] = df['EventTypeSide'].map(getEvent)\n",
    "df['Event_Lateral'] = df['EventTypeSide'].map(getEventLateral)\n",
    "\n",
    "df = df[(~df['Event'].isnull()) & ~(df['Event'] == 'None')]"
   ]
  },
  {
   "cell_type": "code",
   "execution_count": 7,
   "metadata": {},
   "outputs": [
    {
     "data": {
      "text/html": [
       "<div>\n",
       "<style scoped>\n",
       "    .dataframe tbody tr th:only-of-type {\n",
       "        vertical-align: middle;\n",
       "    }\n",
       "\n",
       "    .dataframe tbody tr th {\n",
       "        vertical-align: top;\n",
       "    }\n",
       "\n",
       "    .dataframe thead th {\n",
       "        text-align: right;\n",
       "    }\n",
       "</style>\n",
       "<table border=\"1\" class=\"dataframe\">\n",
       "  <thead>\n",
       "    <tr style=\"text-align: right;\">\n",
       "      <th></th>\n",
       "      <th>PatientID</th>\n",
       "      <th>NeuronID</th>\n",
       "      <th>SpikeTime</th>\n",
       "      <th>SpikeRate</th>\n",
       "      <th>EventTypeSide</th>\n",
       "      <th>Recording_Region</th>\n",
       "      <th>Recording_Lateral</th>\n",
       "      <th>Recording_ContactNo</th>\n",
       "      <th>Event</th>\n",
       "      <th>Event_Lateral</th>\n",
       "    </tr>\n",
       "  </thead>\n",
       "  <tbody>\n",
       "    <tr>\n",
       "      <th>0</th>\n",
       "      <td>1</td>\n",
       "      <td>1</td>\n",
       "      <td>10.583409</td>\n",
       "      <td>0.000000</td>\n",
       "      <td>REST</td>\n",
       "      <td>VIM</td>\n",
       "      <td>L</td>\n",
       "      <td>1</td>\n",
       "      <td>REST</td>\n",
       "      <td></td>\n",
       "    </tr>\n",
       "    <tr>\n",
       "      <th>1</th>\n",
       "      <td>1</td>\n",
       "      <td>1</td>\n",
       "      <td>24.655727</td>\n",
       "      <td>0.071061</td>\n",
       "      <td>REST</td>\n",
       "      <td>VIM</td>\n",
       "      <td>L</td>\n",
       "      <td>1</td>\n",
       "      <td>REST</td>\n",
       "      <td></td>\n",
       "    </tr>\n",
       "    <tr>\n",
       "      <th>2</th>\n",
       "      <td>1</td>\n",
       "      <td>1</td>\n",
       "      <td>66.921773</td>\n",
       "      <td>0.023660</td>\n",
       "      <td>SPASM_B</td>\n",
       "      <td>VIM</td>\n",
       "      <td>L</td>\n",
       "      <td>1</td>\n",
       "      <td>SPASM</td>\n",
       "      <td>B</td>\n",
       "    </tr>\n",
       "    <tr>\n",
       "      <th>3</th>\n",
       "      <td>1</td>\n",
       "      <td>1</td>\n",
       "      <td>67.628909</td>\n",
       "      <td>1.414154</td>\n",
       "      <td>SPASM_B</td>\n",
       "      <td>VIM</td>\n",
       "      <td>L</td>\n",
       "      <td>1</td>\n",
       "      <td>SPASM</td>\n",
       "      <td>B</td>\n",
       "    </tr>\n",
       "    <tr>\n",
       "      <th>4</th>\n",
       "      <td>1</td>\n",
       "      <td>1</td>\n",
       "      <td>68.318864</td>\n",
       "      <td>1.449371</td>\n",
       "      <td>SPASM_B</td>\n",
       "      <td>VIM</td>\n",
       "      <td>L</td>\n",
       "      <td>1</td>\n",
       "      <td>SPASM</td>\n",
       "      <td>B</td>\n",
       "    </tr>\n",
       "  </tbody>\n",
       "</table>\n",
       "</div>"
      ],
      "text/plain": [
       "   PatientID  NeuronID  SpikeTime  SpikeRate EventTypeSide Recording_Region  \\\n",
       "0          1         1  10.583409   0.000000          REST              VIM   \n",
       "1          1         1  24.655727   0.071061          REST              VIM   \n",
       "2          1         1  66.921773   0.023660       SPASM_B              VIM   \n",
       "3          1         1  67.628909   1.414154       SPASM_B              VIM   \n",
       "4          1         1  68.318864   1.449371       SPASM_B              VIM   \n",
       "\n",
       "  Recording_Lateral Recording_ContactNo  Event Event_Lateral  \n",
       "0                 L                   1   REST                \n",
       "1                 L                   1   REST                \n",
       "2                 L                   1  SPASM             B  \n",
       "3                 L                   1  SPASM             B  \n",
       "4                 L                   1  SPASM             B  "
      ]
     },
     "execution_count": 7,
     "metadata": {},
     "output_type": "execute_result"
    }
   ],
   "source": [
    "df.head()"
   ]
  },
  {
   "cell_type": "code",
   "execution_count": 8,
   "metadata": {},
   "outputs": [
    {
     "data": {
      "text/plain": [
       "<seaborn.axisgrid.FacetGrid at 0x229552d1b70>"
      ]
     },
     "execution_count": 8,
     "metadata": {},
     "output_type": "execute_result"
    },
    {
     "data": {
      "image/png": "[encoded data removed]",
      "text/plain": [
       "<matplotlib.figure.Figure at 0x229552d1ba8>"
      ]
     },
     "metadata": {},
     "output_type": "display_data"
    }
   ],
   "source": [
    "p = sns.FacetGrid(df, hue='Event', aspect=4)\n",
    "p.map(sns.distplot, 'SpikeRate')\n",
    "plt.xlim([0,100])\n",
    "p.add_legend()\n"
   ]
  },
  {
   "cell_type": "markdown",
   "metadata": {},
   "source": [
    "The spike rates distribution is very skewed. Also, we consider values over 80 as artifact due to the nature of the phenomenon.\n",
    "First, values over 80 will be removed,"
   ]
  },
  {
   "cell_type": "code",
   "execution_count": 9,
   "metadata": {},
   "outputs": [],
   "source": [
    "df = df[ (1 < df['SpikeRate'])]"
   ]
  },
  {
   "cell_type": "code",
   "execution_count": 10,
   "metadata": {},
   "outputs": [],
   "source": [
    "df['logRate'] = np.log(df['SpikeRate'])"
   ]
  },
  {
   "cell_type": "code",
   "execution_count": 11,
   "metadata": {},
   "outputs": [
    {
     "data": {
      "image/png": "[encoded data removed]",
      "text/plain": [
       "<matplotlib.figure.Figure at 0x229551c24e0>"
      ]
     },
     "metadata": {},
     "output_type": "display_data"
    }
   ],
   "source": [
    "p = sns.FacetGrid(df, aspect=3)\n",
    "p.map(sns.distplot, 'logRate')\n",
    "plt.xlim([0,6])\n",
    "p.add_legend()\n",
    "plt.tight_layout()"
   ]
  },
  {
   "cell_type": "markdown",
   "metadata": {},
   "source": [
    "Even logRate is still skewed. There might be noise in lower rates as well."
   ]
  },
  {
   "cell_type": "markdown",
   "metadata": {},
   "source": [
    "# Data Exploration "
   ]
  },
  {
   "cell_type": "code",
   "execution_count": 12,
   "metadata": {},
   "outputs": [
    {
     "data": {
      "text/plain": [
       "Text(0.5,1,'Right Brain')"
      ]
     },
     "execution_count": 12,
     "metadata": {},
     "output_type": "execute_result"
    },
    {
     "data": {
      "image/png": "[encoded data removed]",
      "text/plain": [
       "<matplotlib.figure.Figure at 0x2295514ff60>"
      ]
     },
     "metadata": {},
     "output_type": "display_data"
    }
   ],
   "source": [
    "df_L = df[(df['Recording_Lateral']=='L') & (df['Event_Lateral'].isin(['R','','B']))]\n",
    "df_R = df[(df['Recording_Lateral']=='R') & (df['Event_Lateral'].isin(['L','','B']))]\n",
    "\n",
    "\n",
    "\n",
    "fig, (axis1,axis2) = plt.subplots(1,2,figsize=(18,6))\n",
    "\n",
    "rateplot = sns.barplot(x='Recording_Region', y='SpikeRate', hue='Event',data=df_L, capsize=.1, ax=axis1)\n",
    "axis1.set_title('Left Brain')\n",
    "axis1.legend(loc='upper right')\n",
    "\n",
    "rateplot = sns.barplot(x='Recording_Region', y='SpikeRate', hue='Event',data=df_R, capsize=.1, ax=axis2)\n",
    "axis2.set_title('Right Brain')\n",
    "\n"
   ]
  },
  {
   "cell_type": "markdown",
   "metadata": {},
   "source": [
    "Left brain seems to be more active during rest in VIM, VoaVop and VPLa. VoaVop is very active during muscle SPASM. (These two patients have injuries at left brain)"
   ]
  },
  {
   "cell_type": "markdown",
   "metadata": {},
   "source": [
    "# Predictive models"
   ]
  },
  {
   "cell_type": "code",
   "execution_count": 13,
   "metadata": {},
   "outputs": [],
   "source": [
    "from sklearn.ensemble import RandomForestClassifier\n",
    "from sklearn.tree import DecisionTreeClassifier\n",
    "from sklearn.linear_model import LogisticRegression\n",
    "from sklearn.neighbors import KNeighborsClassifier\n",
    "from sklearn.naive_bayes import GaussianNB\n",
    "from sklearn.svm import SVC,LinearSVC\n",
    "from sklearn.model_selection import StratifiedKFold, cross_val_score"
   ]
  },
  {
   "cell_type": "code",
   "execution_count": 14,
   "metadata": {},
   "outputs": [],
   "source": [
    "map_region = {'STN':0, 'VIM':1, 'VPLa':2, 'VoaVop':3}\n",
    "X_train = df_L[['Recording_Region', 'logRate']]\n",
    "X_train.loc[:,'Recording_Region'] = X_train['Recording_Region'].map(map_region)\n",
    "\n",
    "y_train = df_L['Event'].map({'REST':0, 'SPASM':1, 'Voluntary':2})\n"
   ]
  },
  {
   "cell_type": "code",
   "execution_count": 15,
   "metadata": {},
   "outputs": [
    {
     "data": {
      "image/png": "[encoded data removed]",
      "text/plain": [
       "<matplotlib.figure.Figure at 0x22957d7d940>"
      ]
     },
     "metadata": {},
     "output_type": "display_data"
    }
   ],
   "source": [
    "from mpl_toolkits.mplot3d import Axes3D\n",
    "\n",
    "fig = plt.figure()\n",
    "ax = fig.add_subplot(111, projection='3d')\n",
    "ax.scatter(X_train['Recording_Region'], X_train['logRate'], y_train, c=y_train)\n",
    "ax.set_xlabel('Region')\n",
    "ax.set_ylabel('log rate')\n",
    "ax.set_zlabel('State')\n",
    "ax.view_init(30, 185)\n",
    "plt.show()\n"
   ]
  },
  {
   "cell_type": "code",
   "execution_count": 16,
   "metadata": {},
   "outputs": [],
   "source": [
    "kfold = StratifiedKFold(n_splits=10)\n",
    "# Modeling step Test differents algorithms \n",
    "random_state = 2\n",
    "classifiers = []\n",
    "classifiers.append(LogisticRegression(random_state = random_state))\n",
    "classifiers.append(SVC(random_state=random_state))\n",
    "classifiers.append(KNeighborsClassifier())\n",
    "classifiers.append(GaussianNB())\n",
    "classifiers.append(LinearSVC(random_state=random_state))\n",
    "classifiers.append(DecisionTreeClassifier(random_state = random_state))\n",
    "classifiers.append(RandomForestClassifier(random_state = random_state))\n",
    "\n",
    "cv_results = []\n",
    "for classifier in classifiers :\n",
    "    cv_results.append(cross_val_score(classifier, X_train, y = y_train, scoring = \"accuracy\", cv = kfold, n_jobs=4))\n",
    "\n",
    "cv_means = []\n",
    "cv_std = []\n",
    "for cv_result in cv_results:\n",
    "    cv_means.append(cv_result.mean())\n",
    "    cv_std.append(cv_result.std())\n",
    "\n",
    "cv_res = pd.DataFrame({\"CrossValMeans\":cv_means,\"CrossValerrors\": cv_std,\"Algorithm\":['Logistic Regression','SVMC', 'KNN', \n",
    "     'Gaussian', 'linear SVC', 'Decision Tree', 'Random Forest']})"
   ]
  },
  {
   "cell_type": "code",
   "execution_count": 17,
   "metadata": {},
   "outputs": [
    {
     "data": {
      "text/html": [
       "<div>\n",
       "<style scoped>\n",
       "    .dataframe tbody tr th:only-of-type {\n",
       "        vertical-align: middle;\n",
       "    }\n",
       "\n",
       "    .dataframe tbody tr th {\n",
       "        vertical-align: top;\n",
       "    }\n",
       "\n",
       "    .dataframe thead th {\n",
       "        text-align: right;\n",
       "    }\n",
       "</style>\n",
       "<table border=\"1\" class=\"dataframe\">\n",
       "  <thead>\n",
       "    <tr style=\"text-align: right;\">\n",
       "      <th></th>\n",
       "      <th>Algorithm</th>\n",
       "      <th>CrossValMeans</th>\n",
       "      <th>CrossValerrors</th>\n",
       "    </tr>\n",
       "  </thead>\n",
       "  <tbody>\n",
       "    <tr>\n",
       "      <th>0</th>\n",
       "      <td>Logistic Regression</td>\n",
       "      <td>0.695025</td>\n",
       "      <td>0.086504</td>\n",
       "    </tr>\n",
       "    <tr>\n",
       "      <th>1</th>\n",
       "      <td>SVMC</td>\n",
       "      <td>0.587468</td>\n",
       "      <td>0.190190</td>\n",
       "    </tr>\n",
       "    <tr>\n",
       "      <th>2</th>\n",
       "      <td>KNN</td>\n",
       "      <td>0.655968</td>\n",
       "      <td>0.137251</td>\n",
       "    </tr>\n",
       "    <tr>\n",
       "      <th>3</th>\n",
       "      <td>Gaussian</td>\n",
       "      <td>0.624109</td>\n",
       "      <td>0.209573</td>\n",
       "    </tr>\n",
       "    <tr>\n",
       "      <th>4</th>\n",
       "      <td>linear SVC</td>\n",
       "      <td>0.690725</td>\n",
       "      <td>0.074735</td>\n",
       "    </tr>\n",
       "    <tr>\n",
       "      <th>5</th>\n",
       "      <td>Decision Tree</td>\n",
       "      <td>0.594778</td>\n",
       "      <td>0.202726</td>\n",
       "    </tr>\n",
       "    <tr>\n",
       "      <th>6</th>\n",
       "      <td>Random Forest</td>\n",
       "      <td>0.594312</td>\n",
       "      <td>0.205178</td>\n",
       "    </tr>\n",
       "  </tbody>\n",
       "</table>\n",
       "</div>"
      ],
      "text/plain": [
       "             Algorithm  CrossValMeans  CrossValerrors\n",
       "0  Logistic Regression       0.695025        0.086504\n",
       "1                 SVMC       0.587468        0.190190\n",
       "2                  KNN       0.655968        0.137251\n",
       "3             Gaussian       0.624109        0.209573\n",
       "4           linear SVC       0.690725        0.074735\n",
       "5        Decision Tree       0.594778        0.202726\n",
       "6        Random Forest       0.594312        0.205178"
      ]
     },
     "execution_count": 17,
     "metadata": {},
     "output_type": "execute_result"
    }
   ],
   "source": [
    "cv_res"
   ]
  },
  {
   "cell_type": "code",
   "execution_count": 18,
   "metadata": {},
   "outputs": [
    {
     "data": {
      "image/png": "[encoded data removed]",
      "text/plain": [
       "<matplotlib.figure.Figure at 0x22957d7d9b0>"
      ]
     },
     "metadata": {},
     "output_type": "display_data"
    }
   ],
   "source": [
    "#g = sns.barplot(x='CrossValMeans',y='Algorithm',data = cv_res, palette=\"Set3\",orient = \"h\",**{'xerr':cv_std})\n",
    "\n",
    "cv_res[['Algorithm', 'CrossValMeans']].plot.bar(x='Algorithm',y='CrossValMeans', colormap='plasma');\n",
    "plt.xlabel(\"Mean Accuracy\")\n",
    "plt.title(\"Cross validation scores\")\n",
    "plt.tight_layout()"
   ]
  },
  {
   "cell_type": "markdown",
   "metadata": {},
   "source": [
    "It seems linear models are doing a good job predicting state of the patient. "
   ]
  },
  {
   "cell_type": "code",
   "execution_count": null,
   "metadata": {},
   "outputs": [],
   "source": []
  },
  {
   "cell_type": "code",
   "execution_count": null,
   "metadata": {},
   "outputs": [],
   "source": []
  }
 ],
 "metadata": {
  "kernelspec": {
   "display_name": "Python 3",
   "language": "python",
   "name": "python3"
  },
  "language_info": {
   "codemirror_mode": {
    "name": "ipython",
    "version": 3
   },
   "file_extension": ".py",
   "mimetype": "text/x-python",
   "name": "python",
   "nbconvert_exporter": "python",
   "pygments_lexer": "ipython3",
   "version": "3.6.4"
  }
 },
 "nbformat": 4,
 "nbformat_minor": 2
}
